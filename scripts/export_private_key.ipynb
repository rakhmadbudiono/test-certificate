{
 "cells": [
  {
   "cell_type": "code",
   "execution_count": 4,
   "metadata": {},
   "outputs": [
    {
     "name": "stdout",
     "output_type": "stream",
     "text": [
      "0x72c78d4e3cff0564bef00ffb500e94da7cae0457abf0adaf29c46f4de72cef49\n"
     ]
    }
   ],
   "source": [
    "from web3 import Web3\n",
    "w3 = Web3(Web3.HTTPProvider('http://127.0.0.1:8545'))\n",
    "\n",
    "with open('keystore/UTC--2021-05-27T02-59-40.054928429Z--2747711ac425e980395d902a3032b537be5ddde6') as keyfile:\n",
    "    encrypted_key = keyfile.read()\n",
    "    hex_key = w3.eth.account.decrypt(encrypted_key, '')\n",
    "    \n",
    "    key = hex_key.hex()\n",
    "    \n",
    "    print(key)"
   ]
  },
  {
   "cell_type": "code",
   "execution_count": null,
   "metadata": {},
   "outputs": [],
   "source": []
  }
 ],
 "metadata": {
  "kernelspec": {
   "display_name": "Python 3",
   "language": "python",
   "name": "python3"
  },
  "language_info": {
   "codemirror_mode": {
    "name": "ipython",
    "version": 3
   },
   "file_extension": ".py",
   "mimetype": "text/x-python",
   "name": "python",
   "nbconvert_exporter": "python",
   "pygments_lexer": "ipython3",
   "version": "3.8.5"
  }
 },
 "nbformat": 4,
 "nbformat_minor": 4
}
